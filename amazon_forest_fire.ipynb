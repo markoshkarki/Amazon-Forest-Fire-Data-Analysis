{
 "cells": [
  {
   "cell_type": "code",
   "execution_count": null,
   "id": "d8207294",
   "metadata": {},
   "outputs": [],
   "source": [
    "import sys\n",
    "sys.path.insert(1, './lib/python3.11/site-packages')\n",
    "import pandas as pd\n",
    "import numpy as np\n",
    "from googletrans import Translator\n",
    "import matplotlib.pyplot as plt; plt.rcdefaults() "
   ]
  },
  {
   "cell_type": "code",
   "execution_count": null,
   "id": "3886a0a0",
   "metadata": {},
   "outputs": [],
   "source": [
    "data = pd.read_csv(\"amazon.csv\", thousands = \".\")"
   ]
  },
  {
   "cell_type": "code",
   "execution_count": null,
   "id": "d9ca0c6e",
   "metadata": {},
   "outputs": [],
   "source": [
    "data.shape"
   ]
  },
  {
   "cell_type": "code",
   "execution_count": null,
   "id": "9773bb80",
   "metadata": {},
   "outputs": [],
   "source": [
    "data.head()"
   ]
  },
  {
   "cell_type": "code",
   "execution_count": null,
   "id": "78fd8a93",
   "metadata": {},
   "outputs": [],
   "source": [
    "data.describe(include = \"all\")"
   ]
  },
  {
   "cell_type": "code",
   "execution_count": null,
   "id": "7a8da7e2",
   "metadata": {},
   "outputs": [],
   "source": [
    "data.isna().sum()"
   ]
  },
  {
   "cell_type": "code",
   "execution_count": null,
   "id": "20914451",
   "metadata": {},
   "outputs": [],
   "source": [
    "data = data.replace(0, np.nan)\n",
    "data2 = data.dropna(subset=['number'])\n",
    "data2.describe(include=\"all\")"
   ]
  },
  {
   "cell_type": "code",
   "execution_count": null,
   "id": "09f74eea",
   "metadata": {},
   "outputs": [],
   "source": [
    "forest_fire_per_month = data2.groupby('month')['number'].sum()\n",
    "print(forest_fire_per_month)\n",
    "months_unique = list(data.month.unique())\n",
    "forest_fire_per_month = forest_fire_per_month.reindex(months_unique, axis=0) \n",
    "forest_fire_per_month = forest_fire_per_month.to_frame()\n",
    "forest_fire_per_month.head()"
   ]
  },
  {
   "cell_type": "code",
   "execution_count": null,
   "id": "178c2ca9",
   "metadata": {},
   "outputs": [],
   "source": [
    "forest_fire_per_month.reset_index(level=0, inplace=True)\n",
    "forest_fire_per_month.head()"
   ]
  },
  {
   "cell_type": "code",
   "execution_count": null,
   "id": "5d9d16de",
   "metadata": {},
   "outputs": [],
   "source": [
    "translator = Translator() #create an object of Translator \n",
    "for month in months_unique: \n",
    "    detected = translator.detect(month)     \n",
    "    translated = translator.translate(month)     \n",
    "    print(detected)     \n",
    "    print(translated)     \n",
    "    print(\"...\")"
   ]
  },
  {
   "cell_type": "code",
   "execution_count": null,
   "id": "ace49756",
   "metadata": {},
   "outputs": [],
   "source": [
    "translator2 = Translator() #create a new object of Translator. #cannot use the one defined before as that contains the latest #month’s calculated value\n",
    "for i, m in enumerate(forest_fire_per_month['month']):\n",
    "    translated = translator2.translate(m)  \n",
    "    month1 = translated.text    \n",
    "    forest_fire_per_month.at[i, 'month'] = month1"
   ]
  },
  {
   "cell_type": "code",
   "execution_count": null,
   "id": "a389cfd6",
   "metadata": {},
   "outputs": [],
   "source": [
    "print(forest_fire_per_month)"
   ]
  },
  {
   "cell_type": "code",
   "execution_count": null,
   "id": "d18937f5",
   "metadata": {},
   "outputs": [],
   "source": [
    "plt.figure(figsize=(25, 15)) #specify width and height \n",
    "#plt.bar(x-values, y-values) \n",
    "plt.bar(\n",
    "forest_fire_per_month['month'],\n",
    "forest_fire_per_month['number'], \n",
    "color = (0.5,0.1,0.5,0.6)) \n",
    "#use .suptitle for the actual title and .title for the subheading\n",
    "plt.suptitle('Amazon Forest Fires Over the Months', fontsize=20) \n",
    "plt.title('Using Data from Years 1998 - 2017', fontsize=20)\n",
    "plt.xlabel('Month', fontsize=20) \n",
    "plt.ylabel('Number of Forest Fires', fontsize=20)\n",
    "#plt.text(x-coordinate, y-coordinate, valueOfText, alignmnet)\n",
    "#this adds text at the top of each bar indicating its value\n",
    "for i, num in enumerate(forest_fire_per_month['number']):\n",
    "    plt.text(\n",
    "        i,\n",
    "        num + 10000,\n",
    "        num,\n",
    "        ha='center',\n",
    "        fontsize=15)   \n",
    "#plt.setp is to set a property on an artist object.\n",
    "#plt.gca() gets the current axes (gca) instance on the current figure #matching the given keyword args.\n",
    "#xticklabels and yticklabels are nothing but the values of the #lables on the x and y axis.\n",
    "#The code below lets us set the fontsize and alignment of the x and #y axis tick labels\n",
    "plt.setp(plt.gca().get_xticklabels(),\n",
    "         rotation=45,\n",
    "         horizontalalignment='right',\n",
    "         fontsize=20)\n",
    "plt.setp(plt.gca().get_yticklabels(), fontsize=20)"
   ]
  },
  {
   "cell_type": "code",
   "execution_count": null,
   "id": "378e6b83",
   "metadata": {},
   "outputs": [],
   "source": []
  }
 ],
 "metadata": {
  "kernelspec": {
   "display_name": "Python 3 (ipykernel)",
   "language": "python",
   "name": "python3"
  },
  "language_info": {
   "codemirror_mode": {
    "name": "ipython",
    "version": 3
   },
   "file_extension": ".py",
   "mimetype": "text/x-python",
   "name": "python",
   "nbconvert_exporter": "python",
   "pygments_lexer": "ipython3",
   "version": "3.11.0"
  }
 },
 "nbformat": 4,
 "nbformat_minor": 5
}
